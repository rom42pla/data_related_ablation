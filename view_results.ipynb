{
 "cells": [
  {
   "cell_type": "code",
   "execution_count": 1,
   "metadata": {},
   "outputs": [
    {
     "name": "stderr",
     "output_type": "stream",
     "text": [
      "\u001b[34m\u001b[1mwandb\u001b[0m: Using wandb-core as the SDK backend. Please refer to https://wandb.me/wandb-core for more information.\n",
      "\u001b[34m\u001b[1mwandb\u001b[0m: Logging into wandb.ai. (Learn how to deploy a W&B server locally: https://wandb.me/wandb-server)\n",
      "\u001b[34m\u001b[1mwandb\u001b[0m: You can find your API key in your browser here: https://wandb.ai/authorize\n",
      "\u001b[34m\u001b[1mwandb\u001b[0m: Paste an API key from your profile and hit enter, or press ctrl+c to quit:\u001b[34m\u001b[1mwandb\u001b[0m: Appending key for api.wandb.ai to your netrc file: /root/.netrc\n"
     ]
    }
   ],
   "source": [
    "import wandb\n",
    "import re\n",
    "from pprint import pprint\n",
    "import pandas as pd\n",
    "\n",
    "wandb.login()\n",
    "api = wandb.Api()\n",
    "experiments = api.runs(\"rom42pla_team/noisy_eeg\")"
   ]
  },
  {
   "cell_type": "code",
   "execution_count": 6,
   "metadata": {},
   "outputs": [],
   "source": [
    "table_rows = []\n",
    "for experiment in experiments:\n",
    "    date, hour, dataset, validation, signal_type, model = experiment.name.split(\n",
    "        \"_\")\n",
    "    df_experiment = experiment.history()\n",
    "    runs = {col.split(\"-\")[0] for col in df_experiment.columns if re.fullmatch(r\"run_[0-9]+-.*\", col)}\n",
    "    avg_rows = []\n",
    "    for run in runs:\n",
    "        # prints all columns with the metrics of the run\n",
    "        metrics = {col for col in df_experiment.columns if re.fullmatch(f\"{run}-.*/.*\", col)}\n",
    "        # get the results for the run\n",
    "        metrics_val = {col for col in df_experiment.columns if re.fullmatch(f\"{run}-.*/val\", col)}\n",
    "        # gets the subset of dataframe for the run\n",
    "        df_run = df_experiment[sorted(metrics_val)].dropna().reset_index(drop=True)\n",
    "        df_run = df_run.rename(columns={col: col.split(\"-\")[-1].split(\"/\")[0] for col in df_run})\n",
    "        # gets the best run based on the cls loss\n",
    "        best_row_i = df_run[\"cls_loss\"].idxmin()\n",
    "        best_row = df_run.iloc[best_row_i]\n",
    "        avg_rows.append(best_row)\n",
    "    df_rows = pd.DataFrame(avg_rows)\n",
    "    rows_mean, rows_std = df_rows.mean(), df_rows.std()\n",
    "    for df in [rows_mean, rows_std]:\n",
    "        df[\"dataset\"] = dataset\n",
    "        df[\"validation\"] = validation\n",
    "        df[\"signal_type\"] = \"<100Hz\" if signal_type == \"eeg\" else \">100Hz\"\n",
    "        df[\"model\"] = model\n",
    "    rows = pd.DataFrame({\n",
    "        key: f\"{mean * 100:.3f} ± {std*100:.3f}\" if isinstance(mean, float) else mean\n",
    "        for key, mean, std in zip(rows_mean.index, rows_mean, rows_std)\n",
    "    }, index=[0]).iloc[0]\n",
    "    table_rows.append(rows)\n",
    "# merge each run's series\n",
    "table = pd.DataFrame(table_rows, dtype=\"object\")\n",
    "# reorder the columns\n",
    "first_cols = [\"dataset\", \"signal_type\", \"validation\", \"model\"]\n",
    "table = table.sort_values(first_cols)\n",
    "table = table[first_cols +\n",
    "              [col for col in table.columns if col not in first_cols]]"
   ]
  },
  {
   "cell_type": "code",
   "execution_count": 7,
   "metadata": {},
   "outputs": [
    {
     "name": "stdout",
     "output_type": "stream",
     "text": [
      "\\begin{tabular}{llllllllll}\n",
      "\\toprule\n",
      "dataset & signal_type & validation & model & cls_acc & cls_f1 & cls_loss & ids_acc & ids_f1 & ids_loss \\\\\n",
      "\\midrule\n",
      "deap & <100Hz & kfold & dino & 99.881 ± 0.043 & 99.898 ± 0.036 & 0.433 ± 0.208 & 99.971 ± 0.045 & 99.971 ± 0.045 & 0.139 ± 0.181 \\\\\n",
      "deap & <100Hz & kfold & linear & 66.380 ± 0.658 & 74.336 ± 0.845 & 61.219 ± 0.445 & 99.620 ± 0.108 & 99.620 ± 0.108 & 3.983 ± 0.606 \\\\\n",
      "deap & <100Hz & kfold & linear & 66.516 ± 0.656 & 74.173 ± 0.640 & 61.245 ± 0.438 & 99.598 ± 0.103 & 99.598 ± 0.103 & 4.217 ± 0.790 \\\\\n",
      "deap & <100Hz & kfold & mlp & 83.628 ± 0.707 & 86.194 ± 0.855 & 37.063 ± 1.302 & 99.783 ± 0.108 & 99.783 ± 0.108 & 1.061 ± 0.605 \\\\\n",
      "deap & <100Hz & loso & dino & 54.932 ± 6.350 & 59.780 ± 12.712 & 119.795 ± 60.725 & - & - & - \\\\\n",
      "deap & <100Hz & loso & linear & 59.168 ± 5.179 & 67.237 ± 9.756 & 67.735 ± 3.567 & - & - & - \\\\\n",
      "deap & <100Hz & loso & mlp & 57.272 ± 6.619 & 64.054 ± 10.290 & 71.434 ± 5.749 & - & - & - \\\\\n",
      "deap & >100Hz & kfold & dino & 99.885 ± 0.050 & 99.901 ± 0.041 & 0.440 ± 0.271 & 99.975 ± 0.024 & 99.975 ± 0.024 & 0.139 ± 0.153 \\\\\n",
      "deap & >100Hz & kfold & linear & 65.124 ± 0.714 & 72.832 ± 1.226 & 61.819 ± 0.402 & 98.732 ± 0.291 & 98.732 ± 0.291 & 11.021 ± 1.128 \\\\\n",
      "deap & >100Hz & kfold & linear & 65.127 ± 0.673 & 72.902 ± 1.409 & 61.820 ± 0.397 & 98.768 ± 0.273 & 98.768 ± 0.273 & 10.681 ± 1.116 \\\\\n",
      "deap & >100Hz & kfold & mlp & 87.192 ± 0.643 & 89.238 ± 0.579 & 30.076 ± 1.198 & 99.580 ± 0.138 & 99.580 ± 0.138 & 1.917 ± 0.653 \\\\\n",
      "deap & >100Hz & loso & dino & 54.149 ± 6.683 & 59.128 ± 12.683 & 136.721 ± 72.315 & - & - & - \\\\\n",
      "deap & >100Hz & loso & linear & 57.592 ± 5.805 & 66.306 ± 8.071 & 67.978 ± 3.577 & - & - & - \\\\\n",
      "deap & >100Hz & loso & mlp & 55.013 ± 6.105 & 62.356 ± 10.655 & 75.304 ± 10.239 & - & - & - \\\\\n",
      "gal & <100Hz & kfold & dino & 91.830 ± 0.149 & 12.606 ± 1.673 & 24.126 ± 0.360 & 99.992 ± 0.009 & 99.992 ± 0.009 & 0.036 ± 0.033 \\\\\n",
      "gal & <100Hz & kfold & linear & 91.601 ± 0.183 & 0.000 ± 0.000 & 26.693 ± 0.393 & 99.986 ± 0.010 & 99.986 ± 0.010 & 0.130 ± 0.054 \\\\\n",
      "gal & <100Hz & kfold & linear & 91.601 ± 0.183 & 0.000 ± 0.000 & 26.685 ± 0.395 & 99.987 ± 0.009 & 99.987 ± 0.009 & 0.127 ± 0.052 \\\\\n",
      "gal & <100Hz & kfold & mlp & 91.714 ± 0.194 & 7.972 ± 2.473 & 24.609 ± 0.410 & 99.990 ± 0.005 & 99.990 ± 0.005 & 0.053 ± 0.042 \\\\\n",
      "gal & <100Hz & loso & dino & 91.579 ± 0.305 & 0.168 ± 0.400 & 28.868 ± 3.104 & - & - & - \\\\\n",
      "gal & <100Hz & loso & linear & 91.601 ± 0.294 & 0.000 ± 0.000 & 27.805 ± 1.480 & - & - & - \\\\\n",
      "gal & <100Hz & loso & mlp & 91.470 ± 0.477 & 0.686 ± 1.480 & 27.934 ± 2.283 & - & - & - \\\\\n",
      "gal & >100Hz & kfold & dino & 91.606 ± 0.172 & 2.546 ± 0.559 & 26.533 ± 0.427 & 99.989 ± 0.011 & 99.989 ± 0.011 & 0.032 ± 0.023 \\\\\n",
      "gal & >100Hz & kfold & linear & 91.603 ± 0.182 & 0.000 ± 0.000 & 28.670 ± 0.466 & 99.931 ± 0.011 & 99.931 ± 0.011 & 1.051 ± 0.102 \\\\\n",
      "gal & >100Hz & kfold & linear & 91.603 ± 0.182 & 0.000 ± 0.000 & 28.670 ± 0.462 & 99.930 ± 0.010 & 99.930 ± 0.010 & 1.060 ± 0.094 \\\\\n",
      "gal & >100Hz & kfold & mlp & 91.594 ± 0.188 & 1.619 ± 0.584 & 27.058 ± 0.455 & 99.993 ± 0.005 & 99.993 ± 0.005 & 0.040 ± 0.026 \\\\\n",
      "gal & >100Hz & loso & dino & 91.602 ± 0.294 & 0.000 ± 0.000 & 29.141 ± 1.362 & - & - & - \\\\\n",
      "gal & >100Hz & loso & linear & 91.602 ± 0.294 & 0.012 ± 0.043 & 29.320 ± 0.845 & - & - & - \\\\\n",
      "gal & >100Hz & loso & mlp & 91.600 ± 0.291 & 0.019 ± 0.065 & 29.336 ± 1.217 & - & - & - \\\\\n",
      "\\bottomrule\n",
      "\\end{tabular}\n",
      "\n"
     ]
    }
   ],
   "source": [
    "print(table.to_latex(na_rep=\"-\", index=False))"
   ]
  },
  {
   "cell_type": "code",
   "execution_count": null,
   "metadata": {},
   "outputs": [],
   "source": []
  }
 ],
 "metadata": {
  "kernelspec": {
   "display_name": ".conda",
   "language": "python",
   "name": "python3"
  },
  "language_info": {
   "codemirror_mode": {
    "name": "ipython",
    "version": 3
   },
   "file_extension": ".py",
   "mimetype": "text/x-python",
   "name": "python",
   "nbconvert_exporter": "python",
   "pygments_lexer": "ipython3",
   "version": "3.9.20"
  }
 },
 "nbformat": 4,
 "nbformat_minor": 2
}
