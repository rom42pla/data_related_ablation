{
 "cells": [
  {
   "cell_type": "code",
   "execution_count": 66,
   "metadata": {},
   "outputs": [],
   "source": [
    "import wandb\n",
    "import re\n",
    "from pprint import pprint\n",
    "import pandas as pd\n",
    "\n",
    "api = wandb.Api()\n",
    "experiments = api.runs(\"rom42pla_team/noisy_eeg\")"
   ]
  },
  {
   "cell_type": "code",
   "execution_count": 112,
   "metadata": {},
   "outputs": [],
   "source": [
    "table_rows = []\n",
    "for experiment in experiments:\n",
    "    date, hour, dataset, validation, signal_type, model = experiment.name.split(\n",
    "        \"_\")\n",
    "    df_experiment = experiment.history()\n",
    "    runs = {col.split(\"-\")[0] for col in df_experiment.columns if re.fullmatch(r\"run_[0-9]+-.*\", col)}\n",
    "    avg_rows = []\n",
    "    for run in runs:\n",
    "        # prints all columns with the metrics of the run\n",
    "        metrics = {col for col in df_experiment.columns if re.fullmatch(f\"{run}-.*/.*\", col)}\n",
    "        # get the results for the run\n",
    "        metrics_val = {col for col in df_experiment.columns if re.fullmatch(f\"{run}-.*/val\", col)}\n",
    "        # gets the subset of dataframe for the run\n",
    "        df_run = df_experiment[sorted(metrics_val)].dropna().reset_index(drop=True)\n",
    "        df_run = df_run.rename(columns={col: col.split(\"-\")[-1].split(\"/\")[0] for col in df_run})\n",
    "        # gets the best run based on the cls loss\n",
    "        best_row_i = df_run[\"cls_loss\"].idxmin()\n",
    "        best_row = df_run.iloc[best_row_i]\n",
    "        avg_rows.append(best_row)\n",
    "    df_rows = pd.DataFrame(avg_rows)\n",
    "    rows_mean, rows_std = df_rows.mean(), df_rows.std()\n",
    "    for df in [rows_mean, rows_std]:\n",
    "        df[\"dataset\"] = dataset\n",
    "        df[\"validation\"] = validation\n",
    "        df[\"signal_type\"] = \"<100Hz\" if signal_type == \"eeg\" else \">100Hz\"\n",
    "        df[\"model\"] = model\n",
    "    rows = pd.DataFrame({\n",
    "        key: f\"{mean:.5f} ± {std:.5f}\" if isinstance(mean, float) else mean\n",
    "        for key, mean, std in zip(rows_mean.index, rows_mean, rows_std)\n",
    "    }, index=[0]).iloc[0]\n",
    "    table_rows.append(rows)\n",
    "# merge each run's series\n",
    "table = pd.DataFrame(table_rows, dtype=\"object\")\n",
    "# reorder the columns\n",
    "first_cols = [\"dataset\", \"signal_type\", \"validation\", \"model\"]\n",
    "table = table.sort_values(first_cols)\n",
    "table = table[first_cols +\n",
    "              [col for col in table.columns if col not in first_cols]]"
   ]
  },
  {
   "cell_type": "code",
   "execution_count": 113,
   "metadata": {},
   "outputs": [
    {
     "name": "stdout",
     "output_type": "stream",
     "text": [
      "\\begin{tabular}{llllllllll}\n",
      "\\toprule\n",
      "dataset & signal_type & validation & model & cls_acc & cls_f1 & cls_loss & ids_acc & ids_f1 & ids_loss \\\\\n",
      "\\midrule\n",
      "deap & <100Hz & kfold & dino & 0.99880 ± 0.00059 & 0.99897 ± 0.00050 & 0.00433 ± 0.00217 & 0.99975 ± 0.00034 & 0.99975 ± 0.00034 & 0.00138 ± 0.00171 \\\\\n",
      "deap & <100Hz & kfold & linear & 0.66379 ± 0.00744 & 0.74116 ± 0.01020 & 0.61167 ± 0.00419 & 0.99649 ± 0.00112 & 0.99649 ± 0.00112 & 0.03828 ± 0.00613 \\\\\n",
      "deap & <100Hz & kfold & mlp & 0.83880 ± 0.00962 & 0.86416 ± 0.00758 & 0.36379 ± 0.01643 & 0.99801 ± 0.00116 & 0.99801 ± 0.00116 & 0.01041 ± 0.00600 \\\\\n",
      "deap & <100Hz & loso & dino & 0.55558 ± 0.05777 & 0.61426 ± 0.09481 & 1.10795 ± 0.51627 & - & - & - \\\\\n",
      "deap & <100Hz & loso & mlp & 0.57012 ± 0.05748 & 0.63720 ± 0.09930 & 0.72073 ± 0.06334 & - & - & - \\\\\n",
      "deap & >100Hz & kfold & dino & 0.99890 ± 0.00051 & 0.99906 ± 0.00043 & 0.00438 ± 0.00270 & 0.99975 ± 0.00030 & 0.99975 ± 0.00030 & 0.00136 ± 0.00153 \\\\\n",
      "deap & >100Hz & kfold & linear & 0.65085 ± 0.00795 & 0.73355 ± 0.01086 & 0.61831 ± 0.00407 & 0.98710 ± 0.00257 & 0.98710 ± 0.00257 & 0.11281 ± 0.01046 \\\\\n",
      "deap & >100Hz & kfold & mlp & 0.86132 ± 0.00815 & 0.88521 ± 0.00585 & 0.32009 ± 0.01143 & 0.99554 ± 0.00149 & 0.99554 ± 0.00149 & 0.01952 ± 0.00656 \\\\\n",
      "deap & >100Hz & loso & dino & 0.53311 ± 0.06542 & 0.60935 ± 0.08926 & 1.34771 ± 0.69969 & - & - & - \\\\\n",
      "deap & >100Hz & loso & mlp & 0.56191 ± 0.05591 & 0.64653 ± 0.07799 & 0.72375 ± 0.07810 & - & - & - \\\\\n",
      "gal & <100Hz & kfold & dino & 0.91804 ± 0.00127 & 0.13391 ± 0.01570 & 0.24127 ± 0.00385 & 0.99995 ± 0.00005 & 0.99995 ± 0.00005 & 0.00021 ± 0.00017 \\\\\n",
      "gal & <100Hz & kfold & linear & 0.91602 ± 0.00183 & 0.00000 ± 0.00000 & 0.26695 ± 0.00388 & 0.99987 ± 0.00009 & 0.99987 ± 0.00009 & 0.00132 ± 0.00053 \\\\\n",
      "gal & <100Hz & kfold & mlp & 0.91711 ± 0.00168 & 0.09111 ± 0.03190 & 0.24556 ± 0.00429 & 0.99990 ± 0.00006 & 0.99990 ± 0.00006 & 0.00054 ± 0.00047 \\\\\n",
      "gal & <100Hz & loso & dino & 0.91432 ± 0.00722 & 0.00387 ± 0.01166 & 0.28524 ± 0.03086 & - & - & - \\\\\n",
      "gal & <100Hz & loso & mlp & 0.91563 ± 0.00322 & 0.00189 ± 0.00625 & 0.27676 ± 0.02003 & - & - & - \\\\\n",
      "gal & >100Hz & kfold & dino & 0.91622 ± 0.00180 & 0.02404 ± 0.00962 & 0.26525 ± 0.00469 & 0.99993 ± 0.00009 & 0.99993 ± 0.00009 & 0.00024 ± 0.00019 \\\\\n",
      "gal & >100Hz & kfold & linear & 0.91603 ± 0.00182 & 0.00000 ± 0.00000 & 0.28669 ± 0.00461 & 0.99930 ± 0.00010 & 0.99930 ± 0.00010 & 0.01053 ± 0.00094 \\\\\n",
      "gal & >100Hz & kfold & mlp & 0.91589 ± 0.00182 & 0.01514 ± 0.00629 & 0.27069 ± 0.00446 & 0.99993 ± 0.00006 & 0.99993 ± 0.00006 & 0.00035 ± 0.00022 \\\\\n",
      "gal & >100Hz & loso & dino & 0.91602 ± 0.00294 & 0.00000 ± 0.00000 & 0.29100 ± 0.01540 & - & - & - \\\\\n",
      "gal & >100Hz & loso & mlp & 0.91602 ± 0.00294 & 0.00007 ± 0.00023 & 0.29561 ± 0.01602 & - & - & - \\\\\n",
      "\\bottomrule\n",
      "\\end{tabular}\n",
      "\n"
     ]
    }
   ],
   "source": [
    "print(table.to_latex(na_rep=\"-\", index=False))"
   ]
  },
  {
   "cell_type": "code",
   "execution_count": null,
   "metadata": {},
   "outputs": [],
   "source": []
  }
 ],
 "metadata": {
  "kernelspec": {
   "display_name": "Python 3",
   "language": "python",
   "name": "python3"
  },
  "language_info": {
   "codemirror_mode": {
    "name": "ipython",
    "version": 3
   },
   "file_extension": ".py",
   "mimetype": "text/x-python",
   "name": "python",
   "nbconvert_exporter": "python",
   "pygments_lexer": "ipython3",
   "version": "3.9.20"
  }
 },
 "nbformat": 4,
 "nbformat_minor": 2
}
